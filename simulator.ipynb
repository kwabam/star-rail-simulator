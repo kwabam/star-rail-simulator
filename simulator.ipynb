{
  "nbformat": 4,
  "nbformat_minor": 0,
  "metadata": {
    "colab": {
      "provenance": [],
      "authorship_tag": "ABX9TyN0UsGxx1x0vZeRvtxevgLN",
      "include_colab_link": true
    },
    "kernelspec": {
      "name": "python3",
      "display_name": "Python 3"
    },
    "language_info": {
      "name": "python"
    }
  },
  "cells": [
    {
      "cell_type": "markdown",
      "metadata": {
        "id": "view-in-github",
        "colab_type": "text"
      },
      "source": [
        "<a href=\"https://colab.research.google.com/github/kwabam/star-rail-simulator/blob/master/simulator.ipynb\" target=\"_parent\"><img src=\"https://colab.research.google.com/assets/colab-badge.svg\" alt=\"Open In Colab\"/></a>"
      ]
    },
    {
      "cell_type": "code",
      "execution_count": 1,
      "metadata": {
        "colab": {
          "base_uri": "https://localhost:8080/"
        },
        "id": "Wldd-pQV1EqH",
        "outputId": "e4e74507-ef7f-4907-bc46-40dd6da80578"
      },
      "outputs": [
        {
          "output_type": "stream",
          "name": "stdout",
          "text": [
            "Cloning into 'star-rail-simulator'...\n",
            "remote: Enumerating objects: 77, done.\u001b[K\n",
            "remote: Counting objects: 100% (77/77), done.\u001b[K\n",
            "remote: Compressing objects: 100% (47/47), done.\u001b[K\n",
            "remote: Total 77 (delta 31), reused 64 (delta 21), pack-reused 0\u001b[K\n",
            "Unpacking objects: 100% (77/77), 23.25 KiB | 580.00 KiB/s, done.\n",
            "/content/star-rail-simulator\n"
          ]
        }
      ],
      "source": [
        "!git clone https://github.com/kwabam/star-rail-simulator.git\n",
        "%cd star-rail-simulator/"
      ]
    },
    {
      "cell_type": "code",
      "source": [
        "from components.character import Character\n",
        "from components.game import Game\n",
        "from components.lightcones import *\n",
        "from components.stats import MainStats, SubStats"
      ],
      "metadata": {
        "id": "JgiUDvW61TyT"
      },
      "execution_count": 2,
      "outputs": []
    },
    {
      "cell_type": "code",
      "source": [
        "from characters.seele import Seele\n",
        "# set main stats here\n",
        "main_stats = MainStats(flat_hp=1, \n",
        "                       flat_atk=1, \n",
        "                       crit_rate=1, \n",
        "                       percent_atk=2, \n",
        "                       percent_dmg=1)\n",
        "# set substats here\n",
        "sub_stats = SubStats(flat_speed=1, \n",
        "                     percent_atk=3, \n",
        "                     crit_rate=10, \n",
        "                     crit_dmg=10)\n",
        "seele = Seele(cruising_in_the_stellar_sea, main_stats, sub_stats)\n",
        "seele.percent_atk += 12  # SSS\n",
        "seele.percent_def_ignore = 10  # quantum set\n",
        "seele.percent_dmg += 10  # quantum set\n",
        "\n",
        "game = Game(team=[seele], skill_points=20)\n",
        "seele.game = game\n",
        "# seele uses technique before entering battle\n",
        "game.add_buff(seele, \"talent_dmg\", \"percent_dmg\", 80, 1)\n",
        "game.add_buff(seele, \"talent_pen\", \"percent_penetration\", 20, 1)\n",
        "\n",
        "game.play()"
      ],
      "metadata": {
        "colab": {
          "base_uri": "https://localhost:8080/"
        },
        "id": "hLP4raRD1aXU",
        "outputId": "1269b04f-7726-4c60-e7fb-8e5544931fda"
      },
      "execution_count": 6,
      "outputs": [
        {
          "output_type": "stream",
          "name": "stdout",
          "text": [
            "Time: 85.25149192713802 | Character: seele\n",
            "Buffs: [('talent_dmg', 'percent_dmg', 80, 1), ('talent_pen', 'percent_penetration', 20, 1)]\n",
            "skill damage:  33156.58061741118\n",
            "Added damage: 18846.89845621267\n",
            "========================================================\n",
            "Time: 153.72119410072412 | Character: seele\n",
            "Buffs: [('skill_speed', 'percent_speed', 25, 1)]\n",
            "skill damage:  22532.700819117283\n",
            "Added damage: 10673.384598529241\n",
            "========================================================\n",
            "Time: 222.1908962743102 | Character: seele\n",
            "Buffs: [('skill_speed', 'percent_speed', 25, 1), ('sss', 'percent_atk', 12, 98)]\n",
            "ult damage:  66919.19030315487\n",
            "skill damage:  34640.52203928017\n",
            "Added damage: 57728.678594647296\n",
            "========================================================\n",
            "Time: 290.6605984478963 | Character: seele\n",
            "Buffs: [('skill_speed', 'percent_speed', 25, 1), ('sss', 'percent_atk', 12, 98), ('talent_dmg', 'percent_dmg', 80, 1), ('talent_pen', 'percent_penetration', 20, 1)]\n",
            "skill damage:  34640.52203928017\n",
            "Added damage: 19690.402001275048\n",
            "========================================================\n",
            "Time: 359.1303006214824 | Character: seele\n",
            "Buffs: [('skill_speed', 'percent_speed', 25, 1), ('sss', 'percent_atk', 12, 98)]\n",
            "skill damage:  22532.700819117283\n",
            "Added damage: 10673.384598529241\n",
            "========================================================\n",
            "Time: 427.60000279506846 | Character: seele\n",
            "Buffs: [('skill_speed', 'percent_speed', 25, 1), ('sss', 'percent_atk', 12, 98)]\n",
            "skill damage:  24812.554500702317\n",
            "Added damage: 11753.315289806364\n",
            "========================================================\n",
            "Time: 496.06970496865455 | Character: seele\n",
            "Buffs: [('skill_speed', 'percent_speed', 25, 1), ('sss', 'percent_atk', 12, 98), ('cruising low hp', 'crit_rate', 16, 98)]\n",
            "ult damage:  73690.0591664159\n",
            "skill damage:  38145.44239202706\n",
            "Added damage: 63569.653517430736\n",
            "========================================================\n",
            "Time: 564.5394071422406 | Character: seele\n",
            "Buffs: [('skill_speed', 'percent_speed', 25, 1), ('sss', 'percent_atk', 12, 98), ('cruising low hp', 'crit_rate', 16, 98), ('talent_dmg', 'percent_dmg', 80, 1), ('talent_pen', 'percent_penetration', 20, 1)]\n",
            "skill damage:  38145.44239202706\n",
            "Added damage: 21682.672517573275\n",
            "========================================================\n",
            "Time: 633.0091093158267 | Character: seele\n",
            "Buffs: [('skill_speed', 'percent_speed', 25, 1), ('sss', 'percent_atk', 12, 98), ('cruising low hp', 'crit_rate', 16, 98)]\n",
            "skill damage:  24812.554500702317\n",
            "Added damage: 11753.315289806364\n",
            "========================================================\n",
            "Time: 701.4788114894127 | Character: seele\n",
            "Buffs: [('skill_speed', 'percent_speed', 25, 1), ('sss', 'percent_atk', 12, 98), ('cruising low hp', 'crit_rate', 16, 98)]\n",
            "skill damage:  24812.554500702317\n",
            "Added damage: 11753.315289806364\n",
            "========================================================\n",
            "Time: 769.9485136629987 | Character: seele\n",
            "Buffs: [('skill_speed', 'percent_speed', 25, 1), ('sss', 'percent_atk', 12, 98), ('cruising low hp', 'crit_rate', 16, 98)]\n",
            "ult damage:  73690.0591664159\n",
            "skill damage:  38145.44239202706\n",
            "Added damage: 63569.653517430736\n",
            "========================================================\n",
            "Time: 838.4182158365847 | Character: seele\n",
            "Buffs: [('skill_speed', 'percent_speed', 25, 1), ('sss', 'percent_atk', 12, 98), ('cruising low hp', 'crit_rate', 16, 98), ('talent_dmg', 'percent_dmg', 80, 1), ('talent_pen', 'percent_penetration', 20, 1)]\n",
            "skill damage:  38145.44239202706\n",
            "Added damage: 21682.672517573275\n",
            "========================================================\n",
            "Total Damage: 323377.3461886206\n"
          ]
        }
      ]
    },
    {
      "cell_type": "code",
      "source": [],
      "metadata": {
        "id": "sxBPiGHpBpNs"
      },
      "execution_count": null,
      "outputs": []
    }
  ]
}